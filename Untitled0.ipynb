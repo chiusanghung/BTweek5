{
  "nbformat": 4,
  "nbformat_minor": 0,
  "metadata": {
    "colab": {
      "provenance": [],
      "authorship_tag": "ABX9TyN7YliV98l+fL6r8n0XYCpy",
      "include_colab_link": true
    },
    "kernelspec": {
      "name": "python3",
      "display_name": "Python 3"
    },
    "language_info": {
      "name": "python"
    }
  },
  "cells": [
    {
      "cell_type": "markdown",
      "metadata": {
        "id": "view-in-github",
        "colab_type": "text"
      },
      "source": [
        "<a href=\"https://colab.research.google.com/github/chiusanghung/BTweek5/blob/main/Untitled0.ipynb\" target=\"_parent\"><img src=\"https://colab.research.google.com/assets/colab-badge.svg\" alt=\"Open In Colab\"/></a>"
      ]
    },
    {
      "cell_type": "code",
      "execution_count": null,
      "metadata": {
        "id": "3PX8PiJ3xCPX"
      },
      "outputs": [],
      "source": [
        "import numpy as np\n",
        "import skfuzzy as fuzz\n",
        "import matplotlib.pyplot as plt\n",
        "\n",
        "x = np.arange(50,81,1)\n",
        "slow = fuzz.trimf (x, [50,50,60])\n",
        "plt.figure()\n",
        "slow = fuzz.trimf (x, [50,50,60])\n",
        "plt.figure()\n",
        "slow = fuzz.trimf (x, [50,50,60])\n",
        "plt.figure()\n",
        "plt.plot (x,slow,'r', linewidth = 1.5, label = 'slow')\n",
        "plt.plot\n",
        "\n"
      ]
    },
    {
      "cell_type": "code",
      "source": [
        "import numpy as np\n",
        "import skfuzzy as fuzz\n",
        "from skfuzzy import control as ctrl\n",
        "\n",
        "food = ctrl.Antecedent(np.arange(0,11,1), 'food')\n",
        "service = ctrl.Antecedent(np.arange(0,11,1), 'service')\n",
        "tip = ctrl.Consequent(np.arange(10,31,1), 'tip')\n",
        "\n",
        "food['poor'] = fuzz.trimf(food.universe, [0,0,5])\n",
        "food['average'] = fuzz.trimf(food.universe, [0,5,10])\n",
        "food['good'] = fuzz.trimf(food.universe, [5,10,10])\n",
        "\n",
        "service['poor'] = fuzz.trimf(service.universe, [0,0,5])\n",
        "service['average'] = fuzz.trimf(service.universe, [0,5,10])\n",
        "service['good'] = fuzz.trimf(service.universe, [5,10,10])\n",
        "\n",
        "tip['less'] = fuzz.trimf(tip.universe, [10,10,20])\n",
        "tip['average'] = fuzz.trimf(tip.universe, [10,20,30])\n",
        "tip['much'] = fuzz.trimf(tip.universe, [20,30,30])\n",
        "\n",
        "food.view()\n",
        "service.view()\n",
        "tip.view()\n",
        "service['average'].view()\n",
        "\n",
        "rule1 = ctrl.Rule(food['poor']&service['poor'],tip['less'])\n",
        "rule2 = ctrl.Rule(food['poor']&service['average'],tip['less'])\n",
        "rule3 = ctrl.Rule(food['poor']&service['good'],tip['less'])\n",
        "rule4 = ctrl.Rule(food['average']&service['poor'],tip['average'])\n",
        "rule5 = ctrl.Rule(food['average']&service['average'],tip['much'])\n",
        "rule6 = ctrl.Rule(food['average']&service['good'],tip['less'])\n",
        "rule7 = ctrl.Rule(food['good']&service['poor'],tip['less'])\n",
        "rule8 = ctrl.Rule(food['good']&service['average'],tip['much'])\n",
        "rule9 = ctrl.Rule(food['good']&service['good'],tip['much'])\n",
        "\n",
        "tipping_ctrl = ctrl.ControlSystem([rule1, rule2, rule3, rule4, rule5, rule6, rule7, rule8, rule9])\n",
        "tipping = ctrl.ControlSystemSimulation(tipping_ctrl)\n",
        "tipping.input['food'] = 1\n",
        "tipping.input['service'] = 1\n",
        "tipping.compute()\n",
        "print(tipping.output['tip'])\n",
        "tip.view(sim = tipping)"
      ],
      "metadata": {
        "id": "uLaOZLfJ4sZ9"
      },
      "execution_count": null,
      "outputs": []
    },
    {
      "cell_type": "code",
      "source": [],
      "metadata": {
        "id": "y-x7Hyl8P9Hx"
      },
      "execution_count": null,
      "outputs": []
    }
  ]
}